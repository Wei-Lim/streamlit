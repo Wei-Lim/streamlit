{
 "cells": [
  {
   "cell_type": "markdown",
   "metadata": {},
   "source": [
    "# Vertriebsdashboard (VDB)"
   ]
  },
  {
   "cell_type": "code",
   "execution_count": 1,
   "metadata": {},
   "outputs": [],
   "source": [
    "import pandas as pd\n",
    "from sqlalchemy import create_engine\n",
    "# pip install SQLAlchemy pymysql\n",
    "\n",
    "\n",
    "# MySQL connection\n",
    "user        = 'William'\n",
    "password    = 'Will1510!'\n",
    "host        = '192.168.131.8' \n",
    "database    = 'stats'\n",
    "\n",
    "mysql_con_string = f\"mysql+pymysql://{user}:{password}@{host}/{database}\"\n",
    "mysql_engine = create_engine(mysql_con_string)\n"
   ]
  },
  {
   "cell_type": "code",
   "execution_count": 2,
   "metadata": {},
   "outputs": [],
   "source": [
    "\n",
    "umsatz_df = pd.read_sql(\n",
    "    \"SELECT * FROM belegdaten WHERE Jahr >= YEAR(CURDATE()) - 5;\", \n",
    "    mysql_engine\n",
    ")\n",
    "\n",
    "umsatz_df = umsatz_df.drop(columns='Datum')\n",
    "umsatz_df"
   ]
  },
  {
   "cell_type": "markdown",
   "metadata": {},
   "source": [
    "print(belegdaten_mysql_df.dtypes)"
   ]
  },
  {
   "cell_type": "code",
   "execution_count": 6,
   "metadata": {},
   "outputs": [
    {
     "name": "stdout",
     "output_type": "stream",
     "text": [
      "Jahr                   0\n",
      "Monat                  0\n",
      "Umsatz                 0\n",
      "Menge                  0\n",
      "Artikelnummer          0\n",
      "Artikelstamm_1         0\n",
      "Modell               511\n",
      "Gruppe               510\n",
      "Branchenname        7434\n",
      "Inland / Ausland    7434\n",
      "dtype: int64\n"
     ]
    }
   ],
   "source": [
    "# Count the number of NULL (NaN) values in each column\n",
    "nulls_per_column = umsatz_df.isnull().sum()\n",
    "\n",
    "print(nulls_per_column)  # NaN count per column\n"
   ]
  }
 ],
 "metadata": {
  "kernelspec": {
   "display_name": ".venv",
   "language": "python",
   "name": "python3"
  },
  "language_info": {
   "codemirror_mode": {
    "name": "ipython",
    "version": 3
   },
   "file_extension": ".py",
   "mimetype": "text/x-python",
   "name": "python",
   "nbconvert_exporter": "python",
   "pygments_lexer": "ipython3",
   "version": "3.12.2"
  }
 },
 "nbformat": 4,
 "nbformat_minor": 2
}
