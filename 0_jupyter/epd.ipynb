{
 "cells": [
  {
   "cell_type": "code",
   "execution_count": 55,
   "metadata": {},
   "outputs": [],
   "source": [
    "import pandas as pd\n",
    "import os"
   ]
  },
  {
   "cell_type": "code",
   "execution_count": 56,
   "metadata": {},
   "outputs": [
    {
     "name": "stderr",
     "output_type": "stream",
     "text": [
      "<>:1: SyntaxWarning: invalid escape sequence '\\A'\n",
      "<>:1: SyntaxWarning: invalid escape sequence '\\A'\n",
      "C:\\Users\\w.truong\\AppData\\Local\\Temp\\ipykernel_10612\\2018669790.py:1: SyntaxWarning: invalid escape sequence '\\A'\n",
      "  file_path = \"0_data\\APOLLO_Range.xlsx\"\n",
      "c:\\Users\\w.truong\\Documents\\SynologyDrive\\Projekte\\Python\\EPD Daten\\.venv\\Lib\\site-packages\\openpyxl\\styles\\stylesheet.py:237: UserWarning: Workbook contains no default style, apply openpyxl's default\n",
      "  warn(\"Workbook contains no default style, apply openpyxl's default\")\n"
     ]
    }
   ],
   "source": [
    "file_path = \"0_data\\APOLLO_Range.xlsx\"\n",
    "\n",
    "file_name, extension = os.path.splitext(os.path.basename(file_path))\n",
    "\n",
    "df = pd.read_excel(file_path)"
   ]
  },
  {
   "cell_type": "code",
   "execution_count": 57,
   "metadata": {},
   "outputs": [
    {
     "data": {
      "text/html": [
       "<div>\n",
       "<style scoped>\n",
       "    .dataframe tbody tr th:only-of-type {\n",
       "        vertical-align: middle;\n",
       "    }\n",
       "\n",
       "    .dataframe tbody tr th {\n",
       "        vertical-align: top;\n",
       "    }\n",
       "\n",
       "    .dataframe thead th {\n",
       "        text-align: right;\n",
       "    }\n",
       "</style>\n",
       "<table border=\"1\" class=\"dataframe\">\n",
       "  <thead>\n",
       "    <tr style=\"text-align: right;\">\n",
       "      <th></th>\n",
       "      <th>Systemleistung</th>\n",
       "      <th>Effektiver Lichtstrom</th>\n",
       "      <th>Lichtausbeute</th>\n",
       "      <th>Schutzart (IP)</th>\n",
       "      <th>IK-Stoßfestigkeit</th>\n",
       "      <th>Lebensdauer</th>\n",
       "      <th>Temperatur</th>\n",
       "    </tr>\n",
       "  </thead>\n",
       "  <tbody>\n",
       "    <tr>\n",
       "      <th>min</th>\n",
       "      <td>14</td>\n",
       "      <td>2600</td>\n",
       "      <td>145.348837</td>\n",
       "      <td>IP65</td>\n",
       "      <td>IK06</td>\n",
       "      <td>29526</td>\n",
       "      <td>-20</td>\n",
       "    </tr>\n",
       "    <tr>\n",
       "      <th>max</th>\n",
       "      <td>198</td>\n",
       "      <td>30000</td>\n",
       "      <td>185.714286</td>\n",
       "      <td>IP65</td>\n",
       "      <td>IK08</td>\n",
       "      <td>245604</td>\n",
       "      <td>45</td>\n",
       "    </tr>\n",
       "  </tbody>\n",
       "</table>\n",
       "</div>"
      ],
      "text/plain": [
       "     Systemleistung  Effektiver Lichtstrom  Lichtausbeute Schutzart (IP)  \\\n",
       "min              14                   2600     145.348837           IP65   \n",
       "max             198                  30000     185.714286           IP65   \n",
       "\n",
       "    IK-Stoßfestigkeit  Lebensdauer  Temperatur  \n",
       "min              IK06        29526         -20  \n",
       "max              IK08       245604          45  "
      ]
     },
     "execution_count": 57,
     "metadata": {},
     "output_type": "execute_result"
    }
   ],
   "source": [
    "min_max_df = (\n",
    "    df\n",
    "    .drop(columns = apollo_df.filter(like = \"(Unit)\").columns)\n",
    "    # pivot longer lifetime values\n",
    "    .melt(\n",
    "        id_vars    = ['Systemleistung','Effektiver Lichtstrom','Lichtausbeute','Schutzart (IP)','IK-Stoßfestigkeit','max. Höchsttemperatur','max. Tiefsttemperatur'],\n",
    "        var_name   = \"LxBy\",\n",
    "        value_name = \"Lebensdauer\"\n",
    "    )\n",
    "    .drop(columns = 'LxBy')\n",
    "    # pivot longer temperatur values\n",
    "    .melt(\n",
    "        id_vars    = ['Systemleistung','Effektiver Lichtstrom','Lichtausbeute','Schutzart (IP)','IK-Stoßfestigkeit','Lebensdauer'],\n",
    "        var_name   = 'Temp_Bezeichnung',\n",
    "        value_name = 'Temperatur'\n",
    "    )\n",
    "    .drop(columns = 'Temp_Bezeichnung')\n",
    "    .drop_duplicates()\n",
    "    .agg(['min', 'max'])\n",
    ")\n",
    "apollo_min_max_df"
   ]
  },
  {
   "cell_type": "code",
   "execution_count": 58,
   "metadata": {},
   "outputs": [],
   "source": [
    "min_max_df.to_excel(\"0_data/output/\" + file_name + \"_min_max.xlsx\")"
   ]
  }
 ],
 "metadata": {
  "kernelspec": {
   "display_name": "Python 3",
   "language": "python",
   "name": "python3"
  },
  "language_info": {
   "codemirror_mode": {
    "name": "ipython",
    "version": 3
   },
   "file_extension": ".py",
   "mimetype": "text/x-python",
   "name": "python",
   "nbconvert_exporter": "python",
   "pygments_lexer": "ipython3",
   "version": "3.12.2"
  }
 },
 "nbformat": 4,
 "nbformat_minor": 2
}
